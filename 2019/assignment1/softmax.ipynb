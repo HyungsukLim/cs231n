{
 "cells": [
  {
   "cell_type": "markdown",
   "metadata": {
    "tags": [
     "pdf-title"
    ]
   },
   "source": [
    "# Softmax exercise\n",
    "\n",
    "*Complete and hand in this completed worksheet (including its outputs and any supporting code outside of the worksheet) with your assignment submission. For more details see the [assignments page](http://vision.stanford.edu/teaching/cs231n/assignments.html) on the course website.*\n",
    "\n",
    "This exercise is analogous to the SVM exercise. You will:\n",
    "\n",
    "- implement a fully-vectorized **loss function** for the Softmax classifier\n",
    "- implement the fully-vectorized expression for its **analytic gradient**\n",
    "- **check your implementation** with numerical gradient\n",
    "- use a validation set to **tune the learning rate and regularization** strength\n",
    "- **optimize** the loss function with **SGD**\n",
    "- **visualize** the final learned weights\n"
   ]
  },
  {
   "cell_type": "code",
   "execution_count": 1,
   "metadata": {
    "tags": [
     "pdf-ignore"
    ]
   },
   "outputs": [],
   "source": [
    "import random\n",
    "import numpy as np\n",
    "from cs231n.data_utils import load_CIFAR10\n",
    "import matplotlib.pyplot as plt\n",
    "\n",
    "%matplotlib inline\n",
    "plt.rcParams['figure.figsize'] = (10.0, 8.0) # set default size of plots\n",
    "plt.rcParams['image.interpolation'] = 'nearest'\n",
    "plt.rcParams['image.cmap'] = 'gray'\n",
    "\n",
    "# for auto-reloading extenrnal modules\n",
    "# see http://stackoverflow.com/questions/1907993/autoreload-of-modules-in-ipython\n",
    "%load_ext autoreload\n",
    "%autoreload 2"
   ]
  },
  {
   "cell_type": "code",
   "execution_count": 2,
   "metadata": {
    "tags": [
     "pdf-ignore"
    ]
   },
   "outputs": [
    {
     "name": "stdout",
     "output_type": "stream",
     "text": [
      "Train data shape:  (49000, 3073)\n",
      "Train labels shape:  (49000,)\n",
      "Validation data shape:  (1000, 3073)\n",
      "Validation labels shape:  (1000,)\n",
      "Test data shape:  (1000, 3073)\n",
      "Test labels shape:  (1000,)\n",
      "dev data shape:  (500, 3073)\n",
      "dev labels shape:  (500,)\n"
     ]
    }
   ],
   "source": [
    "def get_CIFAR10_data(num_training=49000, num_validation=1000, num_test=1000, num_dev=500):\n",
    "    \"\"\"\n",
    "    Load the CIFAR-10 dataset from disk and perform preprocessing to prepare\n",
    "    it for the linear classifier. These are the same steps as we used for the\n",
    "    SVM, but condensed to a single function.  \n",
    "    \"\"\"\n",
    "    # Load the raw CIFAR-10 data\n",
    "    cifar10_dir = 'cs231n/datasets/cifar-10-batches-py'\n",
    "    \n",
    "    # Cleaning up variables to prevent loading data multiple times (which may cause memory issue)\n",
    "    try:\n",
    "       del X_train, y_train\n",
    "       del X_test, y_test\n",
    "       print('Clear previously loaded data.')\n",
    "    except:\n",
    "       pass\n",
    "\n",
    "    X_train, y_train, X_test, y_test = load_CIFAR10(cifar10_dir)\n",
    "    \n",
    "    # subsample the data\n",
    "    mask = list(range(num_training, num_training + num_validation))\n",
    "    X_val = X_train[mask]\n",
    "    y_val = y_train[mask]\n",
    "    mask = list(range(num_training))\n",
    "    X_train = X_train[mask]\n",
    "    y_train = y_train[mask]\n",
    "    mask = list(range(num_test))\n",
    "    X_test = X_test[mask]\n",
    "    y_test = y_test[mask]\n",
    "    mask = np.random.choice(num_training, num_dev, replace=False)\n",
    "    X_dev = X_train[mask]\n",
    "    y_dev = y_train[mask]\n",
    "    \n",
    "    # Preprocessing: reshape the image data into rows\n",
    "    X_train = np.reshape(X_train, (X_train.shape[0], -1))\n",
    "    X_val = np.reshape(X_val, (X_val.shape[0], -1))\n",
    "    X_test = np.reshape(X_test, (X_test.shape[0], -1))\n",
    "    X_dev = np.reshape(X_dev, (X_dev.shape[0], -1))\n",
    "    \n",
    "    # Normalize the data: subtract the mean image\n",
    "    mean_image = np.mean(X_train, axis = 0)\n",
    "    X_train -= mean_image\n",
    "    X_val -= mean_image\n",
    "    X_test -= mean_image\n",
    "    X_dev -= mean_image\n",
    "    \n",
    "    # add bias dimension and transform into columns\n",
    "    X_train = np.hstack([X_train, np.ones((X_train.shape[0], 1))])\n",
    "    X_val = np.hstack([X_val, np.ones((X_val.shape[0], 1))])\n",
    "    X_test = np.hstack([X_test, np.ones((X_test.shape[0], 1))])\n",
    "    X_dev = np.hstack([X_dev, np.ones((X_dev.shape[0], 1))])\n",
    "    \n",
    "    return X_train, y_train, X_val, y_val, X_test, y_test, X_dev, y_dev\n",
    "\n",
    "\n",
    "# Invoke the above function to get our data.\n",
    "X_train, y_train, X_val, y_val, X_test, y_test, X_dev, y_dev = get_CIFAR10_data()\n",
    "print('Train data shape: ', X_train.shape)\n",
    "print('Train labels shape: ', y_train.shape)\n",
    "print('Validation data shape: ', X_val.shape)\n",
    "print('Validation labels shape: ', y_val.shape)\n",
    "print('Test data shape: ', X_test.shape)\n",
    "print('Test labels shape: ', y_test.shape)\n",
    "print('dev data shape: ', X_dev.shape)\n",
    "print('dev labels shape: ', y_dev.shape)"
   ]
  },
  {
   "cell_type": "markdown",
   "metadata": {},
   "source": [
    "## Softmax Classifier\n",
    "\n",
    "Your code for this section will all be written inside **cs231n/classifiers/softmax.py**. \n"
   ]
  },
  {
   "cell_type": "code",
   "execution_count": 60,
   "metadata": {},
   "outputs": [
    {
     "name": "stdout",
     "output_type": "stream",
     "text": [
      "loss: 2.323215\n",
      "sanity check: 2.302585\n"
     ]
    }
   ],
   "source": [
    "# First implement the naive softmax loss function with nested loops.\n",
    "# Open the file cs231n/classifiers/softmax.py and implement the\n",
    "# softmax_loss_naive function.\n",
    "\n",
    "from cs231n.classifiers.softmax import softmax_loss_naive\n",
    "import time\n",
    "\n",
    "# Generate a random softmax weight matrix and use it to compute the loss.\n",
    "W = np.random.randn(3073, 10) * 0.0001\n",
    "loss, grad = softmax_loss_naive(W, X_dev, y_dev, 0.0)\n",
    "# As a rough sanity check, our loss should be something close to -log(0.1).\n",
    "print('loss: %f' % loss)\n",
    "print('sanity check: %f' % (-np.log(0.1)))"
   ]
  },
  {
   "cell_type": "markdown",
   "metadata": {
    "tags": [
     "pdf-inline"
    ]
   },
   "source": [
    "**Inline Question 1**\n",
    "\n",
    "Why do we expect our loss to be close to -log(0.1)? Explain briefly.**\n",
    "\n",
    "$\\color{blue}{\\textit Your Answer:}$ *Fill this in* \n",
    "\n"
   ]
  },
  {
   "cell_type": "code",
   "execution_count": 74,
   "metadata": {},
   "outputs": [
    {
     "name": "stdout",
     "output_type": "stream",
     "text": [
      "numerical: -0.768109 analytic: -0.768110, relative error: 9.594791e-08\n",
      "numerical: -1.106794 analytic: -1.106794, relative error: 6.909214e-09\n",
      "numerical: 0.271449 analytic: 0.271449, relative error: 1.290133e-07\n",
      "numerical: 2.000070 analytic: 2.000070, relative error: 1.588987e-08\n",
      "numerical: 1.206183 analytic: 1.206183, relative error: 4.369363e-08\n",
      "numerical: -1.977855 analytic: -1.977855, relative error: 1.763461e-08\n",
      "numerical: 1.861220 analytic: 1.861220, relative error: 1.503409e-08\n",
      "numerical: 4.700159 analytic: 4.700159, relative error: 3.706009e-09\n",
      "numerical: -1.642917 analytic: -1.642917, relative error: 1.741881e-11\n",
      "numerical: 2.292011 analytic: 2.292011, relative error: 9.904378e-09\n",
      "numerical: -3.544325 analytic: -3.546098, relative error: 2.501060e-04\n",
      "numerical: -1.501607 analytic: -1.505324, relative error: 1.236217e-03\n",
      "numerical: -0.004423 analytic: 0.000644, relative error: 1.000000e+00\n",
      "numerical: 0.858706 analytic: 0.860081, relative error: 8.002792e-04\n",
      "numerical: 1.443113 analytic: 1.442471, relative error: 2.225635e-04\n",
      "numerical: 0.257916 analytic: 0.259489, relative error: 3.041094e-03\n",
      "numerical: 1.726649 analytic: 1.724479, relative error: 6.288452e-04\n",
      "numerical: 2.558857 analytic: 2.561046, relative error: 4.275654e-04\n",
      "numerical: 1.605316 analytic: 1.611341, relative error: 1.873084e-03\n",
      "numerical: -1.883139 analytic: -1.887148, relative error: 1.063275e-03\n"
     ]
    }
   ],
   "source": [
    "# Complete the implementation of softmax_loss_naive and implement a (naive)\n",
    "# version of the gradient that uses nested loops.\n",
    "loss, grad = softmax_loss_naive(W, X_dev, y_dev, 0.0)\n",
    "\n",
    "# As we did for the SVM, use numeric gradient checking as a debugging tool.\n",
    "# The numeric gradient should be close to the analytic gradient.\n",
    "from cs231n.gradient_check import grad_check_sparse\n",
    "f = lambda w: softmax_loss_naive(w, X_dev, y_dev, 0.0)[0]\n",
    "grad_numerical = grad_check_sparse(f, W, grad, 10)\n",
    "\n",
    "# similar to SVM case, do another gradient check with regularization\n",
    "loss, grad = softmax_loss_naive(W, X_dev, y_dev, 5e1)\n",
    "f = lambda w: softmax_loss_naive(w, X_dev, y_dev, 5e1)[0]\n",
    "grad_numerical = grad_check_sparse(f, W, grad, 10)"
   ]
  },
  {
   "cell_type": "code",
   "execution_count": 86,
   "metadata": {},
   "outputs": [
    {
     "name": "stdout",
     "output_type": "stream",
     "text": [
      "naive loss: 2.323215e+00 computed in 0.147208s\n",
      "vectorized loss: 2.323215e+00 computed in 0.002209s\n",
      "Loss difference: 0.000000\n",
      "Gradient difference: 0.000000\n"
     ]
    }
   ],
   "source": [
    "# Now that we have a naive implementation of the softmax loss function and its gradient,\n",
    "# implement a vectorized version in softmax_loss_vectorized.\n",
    "# The two versions should compute the same results, but the vectorized version should be\n",
    "# much faster.\n",
    "tic = time.time()\n",
    "loss_naive, grad_naive = softmax_loss_naive(W, X_dev, y_dev, 0.000005)\n",
    "toc = time.time()\n",
    "print('naive loss: %e computed in %fs' % (loss_naive, toc - tic))\n",
    "\n",
    "from cs231n.classifiers.softmax import softmax_loss_vectorized\n",
    "tic = time.time()\n",
    "loss_vectorized, grad_vectorized = softmax_loss_vectorized(W, X_dev, y_dev, 0.000005)\n",
    "toc = time.time()\n",
    "print('vectorized loss: %e computed in %fs' % (loss_vectorized, toc - tic))\n",
    "\n",
    "# As we did for the SVM, we use the Frobenius norm to compare the two versions\n",
    "# of the gradient.\n",
    "grad_difference = np.linalg.norm(grad_naive - grad_vectorized, ord='fro')\n",
    "print('Loss difference: %f' % np.abs(loss_naive - loss_vectorized))\n",
    "print('Gradient difference: %f' % grad_difference)"
   ]
  },
  {
   "cell_type": "code",
   "execution_count": 97,
   "metadata": {
    "tags": [
     "code"
    ]
   },
   "outputs": [
    {
     "name": "stdout",
     "output_type": "stream",
     "text": [
      "lr 1.000000e-07 reg 7.000000e+03 train accuracy: 0.275980 val accuracy: 0.260000\n",
      "lr 1.000000e-07 reg 8.000000e+03 train accuracy: 0.243367 val accuracy: 0.232000\n",
      "lr 1.000000e-07 reg 9.000000e+03 train accuracy: 0.251673 val accuracy: 0.273000\n",
      "lr 1.000000e-07 reg 1.000000e+04 train accuracy: 0.255694 val accuracy: 0.260000\n",
      "lr 1.000000e-07 reg 1.100000e+04 train accuracy: 0.247714 val accuracy: 0.257000\n",
      "lr 1.000000e-07 reg 1.200000e+04 train accuracy: 0.284959 val accuracy: 0.298000\n",
      "lr 1.000000e-07 reg 1.300000e+04 train accuracy: 0.250347 val accuracy: 0.257000\n",
      "lr 1.000000e-07 reg 4.700000e+04 train accuracy: 0.240612 val accuracy: 0.251000\n",
      "lr 1.000000e-07 reg 4.800000e+04 train accuracy: 0.241918 val accuracy: 0.249000\n",
      "lr 1.000000e-07 reg 4.900000e+04 train accuracy: 0.254837 val accuracy: 0.260000\n",
      "lr 1.000000e-07 reg 5.000000e+04 train accuracy: 0.255020 val accuracy: 0.302000\n",
      "lr 1.000000e-07 reg 5.100000e+04 train accuracy: 0.274061 val accuracy: 0.265000\n",
      "lr 1.000000e-07 reg 5.200000e+04 train accuracy: 0.276959 val accuracy: 0.281000\n",
      "lr 1.000000e-07 reg 5.300000e+04 train accuracy: 0.284776 val accuracy: 0.292000\n",
      "lr 2.000000e-07 reg 7.000000e+03 train accuracy: 0.234143 val accuracy: 0.242000\n",
      "lr 2.000000e-07 reg 8.000000e+03 train accuracy: 0.321408 val accuracy: 0.317000\n",
      "lr 2.000000e-07 reg 9.000000e+03 train accuracy: 0.259980 val accuracy: 0.257000\n",
      "lr 2.000000e-07 reg 1.000000e+04 train accuracy: 0.288429 val accuracy: 0.308000\n",
      "lr 2.000000e-07 reg 1.100000e+04 train accuracy: 0.317918 val accuracy: 0.347000\n",
      "lr 2.000000e-07 reg 1.200000e+04 train accuracy: 0.298510 val accuracy: 0.295000\n",
      "lr 2.000000e-07 reg 1.300000e+04 train accuracy: 0.254796 val accuracy: 0.280000\n",
      "lr 2.000000e-07 reg 4.700000e+04 train accuracy: 0.216245 val accuracy: 0.198000\n",
      "lr 2.000000e-07 reg 4.800000e+04 train accuracy: 0.284000 val accuracy: 0.269000\n",
      "lr 2.000000e-07 reg 4.900000e+04 train accuracy: 0.232367 val accuracy: 0.237000\n",
      "lr 2.000000e-07 reg 5.000000e+04 train accuracy: 0.236306 val accuracy: 0.239000\n",
      "lr 2.000000e-07 reg 5.100000e+04 train accuracy: 0.252143 val accuracy: 0.269000\n",
      "lr 2.000000e-07 reg 5.200000e+04 train accuracy: 0.265122 val accuracy: 0.268000\n",
      "lr 2.000000e-07 reg 5.300000e+04 train accuracy: 0.277735 val accuracy: 0.276000\n",
      "lr 5.000000e-07 reg 7.000000e+03 train accuracy: 0.259265 val accuracy: 0.247000\n",
      "lr 5.000000e-07 reg 8.000000e+03 train accuracy: 0.268469 val accuracy: 0.301000\n",
      "lr 5.000000e-07 reg 9.000000e+03 train accuracy: 0.261286 val accuracy: 0.251000\n",
      "lr 5.000000e-07 reg 1.000000e+04 train accuracy: 0.212000 val accuracy: 0.236000\n",
      "lr 5.000000e-07 reg 1.100000e+04 train accuracy: 0.250082 val accuracy: 0.264000\n",
      "lr 5.000000e-07 reg 1.200000e+04 train accuracy: 0.273878 val accuracy: 0.259000\n",
      "lr 5.000000e-07 reg 1.300000e+04 train accuracy: 0.234347 val accuracy: 0.221000\n",
      "lr 5.000000e-07 reg 4.700000e+04 train accuracy: 0.247265 val accuracy: 0.247000\n",
      "lr 5.000000e-07 reg 4.800000e+04 train accuracy: 0.274592 val accuracy: 0.286000\n",
      "lr 5.000000e-07 reg 4.900000e+04 train accuracy: 0.264755 val accuracy: 0.253000\n",
      "lr 5.000000e-07 reg 5.000000e+04 train accuracy: 0.265082 val accuracy: 0.264000\n",
      "lr 5.000000e-07 reg 5.100000e+04 train accuracy: 0.275857 val accuracy: 0.277000\n",
      "lr 5.000000e-07 reg 5.200000e+04 train accuracy: 0.220347 val accuracy: 0.231000\n",
      "lr 5.000000e-07 reg 5.300000e+04 train accuracy: 0.230061 val accuracy: 0.237000\n",
      "best validation accuracy achieved during cross-validation: 0.347000\n"
     ]
    }
   ],
   "source": [
    "# Use the validation set to tune hyperparameters (regularization strength and\n",
    "# learning rate). You should experiment with different ranges for the learning\n",
    "# rates and regularization strengths; if you are careful you should be able to\n",
    "# get a classification accuracy of over 0.35 on the validation set.\n",
    "from cs231n.classifiers import Softmax\n",
    "results = {}\n",
    "best_val = -1\n",
    "best_softmax = None\n",
    "learning_rates = [1e-7, 2e-7, 5e-7]\n",
    "regularization_strengths =[(1+0.1*i)*1e4 for i in range(-3,4)] + [(5+0.1*i)*1e4 for i in range(-3,4)]\n",
    "\n",
    "################################################################################\n",
    "# TODO:                                                                        #\n",
    "# Use the validation set to set the learning rate and regularization strength. #\n",
    "# This should be identical to the validation that you did for the SVM; save    #\n",
    "# the best trained softmax classifer in best_softmax.                          #\n",
    "################################################################################\n",
    "# *****START OF YOUR CODE (DO NOT DELETE/MODIFY THIS LINE)*****\n",
    "\n",
    "for lr in learning_rates :\n",
    "    for rs in regularization_strengths :\n",
    "        model = Softmax()\n",
    "        model.train(X_train,y_train)\n",
    "        val_accuracy = np.mean(y_val == model.predict(X_val))\n",
    "        train_accuracy = np.mean(y_train == model.predict(X_train))\n",
    "        if best_val < val_accuracy :\n",
    "            best_val = val_accuracy \n",
    "            best_softmax = model\n",
    "        results[(lr,rs)]=(train_accuracy,val_accuracy)\n",
    "\n",
    "# *****END OF YOUR CODE (DO NOT DELETE/MODIFY THIS LINE)*****\n",
    "    \n",
    "# Print out results.\n",
    "for lr, reg in sorted(results):\n",
    "    train_accuracy, val_accuracy = results[(lr, reg)]\n",
    "    print('lr %e reg %e train accuracy: %f val accuracy: %f' % (\n",
    "                lr, reg, train_accuracy, val_accuracy))\n",
    "    \n",
    "print('best validation accuracy achieved during cross-validation: %f' % best_val)"
   ]
  },
  {
   "cell_type": "code",
   "execution_count": 98,
   "metadata": {},
   "outputs": [
    {
     "name": "stdout",
     "output_type": "stream",
     "text": [
      "softmax on raw pixels final test set accuracy: 0.293000\n"
     ]
    }
   ],
   "source": [
    "# evaluate on test set\n",
    "# Evaluate the best softmax on test set\n",
    "y_test_pred = best_softmax.predict(X_test)\n",
    "test_accuracy = np.mean(y_test == y_test_pred)\n",
    "print('softmax on raw pixels final test set accuracy: %f' % (test_accuracy, ))"
   ]
  },
  {
   "cell_type": "markdown",
   "metadata": {
    "tags": [
     "pdf-inline"
    ]
   },
   "source": [
    "**Inline Question 2** - *True or False*\n",
    "\n",
    "Suppose the overall training loss is defined as the sum of the per-datapoint loss over all training examples. It is possible to add a new datapoint to a training set that would leave the SVM loss unchanged, but this is not the case with the Softmax classifier loss.\n",
    "\n",
    "$\\color{blue}{\\textit Your Answer:}$\n",
    "\n",
    "\n",
    "$\\color{blue}{\\textit Your Explanation:}$\n",
    "\n"
   ]
  },
  {
   "cell_type": "code",
   "execution_count": 99,
   "metadata": {},
   "outputs": [
    {
     "data": {
      "image/png": "[encoded data removed]",
      "text/plain": [
       "<Figure size 432x288 with 10 Axes>"
      ]
     },
     "metadata": {
      "needs_background": "light"
     },
     "output_type": "display_data"
    }
   ],
   "source": [
    "# Visualize the learned weights for each class\n",
    "w = best_softmax.W[:-1,:] # strip out the bias\n",
    "w = w.reshape(32, 32, 3, 10)\n",
    "\n",
    "w_min, w_max = np.min(w), np.max(w)\n",
    "\n",
    "classes = ['plane', 'car', 'bird', 'cat', 'deer', 'dog', 'frog', 'horse', 'ship', 'truck']\n",
    "for i in range(10):\n",
    "    plt.subplot(2, 5, i + 1)\n",
    "    \n",
    "    # Rescale the weights to be between 0 and 255\n",
    "    wimg = 255.0 * (w[:, :, :, i].squeeze() - w_min) / (w_max - w_min)\n",
    "    plt.imshow(wimg.astype('uint8'))\n",
    "    plt.axis('off')\n",
    "    plt.title(classes[i])"
   ]
  },
  {
   "cell_type": "code",
   "execution_count": null,
   "metadata": {},
   "outputs": [],
   "source": []
  }
 ],
 "metadata": {
  "kernelspec": {
   "display_name": "Python 3",
   "language": "python",
   "name": "python3"
  },
  "language_info": {
   "codemirror_mode": {
    "name": "ipython",
    "version": 3
   },
   "file_extension": ".py",
   "mimetype": "text/x-python",
   "name": "python",
   "nbconvert_exporter": "python",
   "pygments_lexer": "ipython3",
   "version": "3.6.8"
  }
 },
 "nbformat": 4,
 "nbformat_minor": 2
}
